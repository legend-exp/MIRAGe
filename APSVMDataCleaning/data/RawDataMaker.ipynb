{
 "cells": [
  {
   "cell_type": "markdown",
   "metadata": {},
   "source": [
    "# Raw Data Maker\n",
    "\n",
    "This notebook creates a training dataset to feed into the AP-SVM model. First, we load modules and files."
   ]
  },
  {
   "cell_type": "code",
   "execution_count": null,
   "metadata": {},
   "outputs": [],
   "source": [
    "# Load modules \n",
    "import os, json, lgdo\n",
    "import numpy as np\n",
    "import matplotlib.pyplot as plt\n",
    "import legendstyles\n",
    "    \n",
    "# Set plot style \n",
    "plt.style.use(legendstyles.LEGEND)"
   ]
  },
  {
   "cell_type": "markdown",
   "metadata": {},
   "source": [
    "We construct the training dataset differently depending on the analysis software stack and the data type. For [pygama](https://github.com/legend-exp/pygama), we need to train one model that contains both **phy** and **cal** data so that it can be incorporated into the dataflow. For [juleana](https://github.com/legend-exp/Juleana.jl), we can train separate models for **phy** and **cal** data."
   ]
  },
  {
   "cell_type": "code",
   "execution_count": 1,
   "metadata": {},
   "outputs": [
    {
     "data": {
      "text/plain": [
       "<KeysViewHDF5 ['abs_delta_mu_usec', 'baseline', 'board_id', 'channel', 'crate', 'daqenergy', 'deadtime', 'delta_mu_usec', 'dr_maxticks', 'dr_start_pps', 'dr_start_ticks', 'dr_stop_pps', 'dr_stop_ticks', 'event_type', 'eventnumber', 'fc_input', 'fcid', 'mu_offset_sec', 'mu_offset_usec', 'numtraces', 'packet_id', 'presum_rate', 'runtime', 'slot', 't_sat_hi', 't_sat_lo', 'timestamp', 'to_master_sec', 'to_start_sec', 'to_start_usec', 'tracelist', 'ts_maxticks', 'ts_pps', 'ts_ticks', 'waveform_presummed', 'waveform_windowed']>"
      ]
     },
     "execution_count": 1,
     "metadata": {},
     "output_type": "execute_result"
    }
   ],
   "source": [
    "data_type = \"cal\"\n",
    "stack = \"juleana\"\n",
    "\n",
    "l200_data_dir = \"/global/cfs/projectdirs/m2676/data/lngs/l200\"\n",
    "prod_env_dir = l200_data_dir + \"/public/prodenv-new/prod-blind\"\n",
    "period = \"p10\"\n",
    "run = \"r000\"\n",
    "\n",
    "if stack == \"juleana\":\n",
    "    \n",
    "    raw_dir = prod_env_dir + f\"/ref-raw/generated/tier/raw/{data_type}/{period}/{run}\"\n",
    "    raw_files = sorted([os.path.abspath(os.path.join(raw_dir, p)) for p in os.listdir(raw_dir)])\n",
    "    \n",
    "elif stack == \"pygama\":\n",
    "    \n",
    "    raw_dir_phy = prod_env_dir + \"/ref-raw/generated/tier/raw/phy\" + run\n",
    "    raw_dir_cal = prod_env_dir + \"/ref-raw/generated/tier/raw/cal\" + run\n",
    "\n",
    "    raw_files_phy = sorted([os.path.abspath(os.path.join(raw_dir_phy, p)) for p in os.listdir(raw_dir_phy)])\n",
    "    raw_files_cal = sorted([os.path.abspath(os.path.join(raw_dir_cal, p)) for p in os.listdir(raw_dir_cal)])"
   ]
  },
  {
   "cell_type": "markdown",
   "metadata": {},
   "source": [
    "Print first raw file path to get timestamp."
   ]
  },
  {
   "cell_type": "code",
   "execution_count": 2,
   "metadata": {
    "tags": []
   },
   "outputs": [
    {
     "data": {
      "text/plain": [
       "'/global/cfs/projectdirs/m2676/data/lngs/l200/public/prodenv-new/prod-blind/ref-raw/generated/tier/raw/phy/p10/r000/l200-p10-r000-phy-20240226T164758Z-tier_raw.lh5'"
      ]
     },
     "execution_count": 2,
     "metadata": {},
     "output_type": "execute_result"
    }
   ],
   "source": [
    "if stack == \"juleana\":\n",
    "    print(raw_files[0])\n",
    "if stack == \"pygama\":\n",
    "    print(raw_files_cal[0])"
   ]
  },
  {
   "cell_type": "markdown",
   "metadata": {},
   "source": [
    "Next we construct a list of **processable** Germanium detectors corresponding to the period and run we want to analyze. For this, we use `pylegendmeta` to access LEGEND's metadata. It is highly recommended to clone the [legend-metadata] Github repo locally and specify its path. The metadata repo should be updated before running this cell. "
   ]
  },
  {
   "cell_type": "code",
   "execution_count": 3,
   "metadata": {},
   "outputs": [
    {
     "name": "stdout",
     "output_type": "stream",
     "text": [
      "['ch1104000', 'ch1104001', 'ch1104002', 'ch1104003', 'ch1104004', 'ch1104005', 'ch1105600', 'ch1105602', 'ch1105603', 'ch1107202', 'ch1107203', 'ch1107204', 'ch1107205', 'ch1108800', 'ch1108801', 'ch1108802', 'ch1108803', 'ch1110402', 'ch1110403', 'ch1110404', 'ch1112000', 'ch1112001', 'ch1112002', 'ch1112003', 'ch1112004', 'ch1112005', 'ch1113600', 'ch1113601', 'ch1113602', 'ch1113603', 'ch1113604', 'ch1113605', 'ch1115203', 'ch1115204', 'ch1116801', 'ch1116802', 'ch1116803', 'ch1116804', 'ch1116805', 'ch1118402', 'ch1118403', 'ch1118404', 'ch1118405', 'ch1120000', 'ch1120001', 'ch1120002', 'ch1120003', 'ch1120004', 'ch1120005', 'ch1121600', 'ch1121601', 'ch1121602', 'ch1121603', 'ch1121604', 'ch1121605', 'ch1078400', 'ch1078405', 'ch1080000', 'ch1080001', 'ch1080004', 'ch1080005', 'ch1081600', 'ch1081601', 'ch1081602', 'ch1081603', 'ch1081604', 'ch1081605', 'ch1083200', 'ch1083201', 'ch1083202', 'ch1083203', 'ch1083204', 'ch1083205', 'ch1084800', 'ch1084801', 'ch1084802', 'ch1084803', 'ch1084804', 'ch1084805', 'ch1086400', 'ch1086401', 'ch1086403', 'ch1086404', 'ch1086405', 'ch1088001', 'ch1088002', 'ch1088003', 'ch1089600', 'ch1089601', 'ch1089603']\n"
     ]
    }
   ],
   "source": [
    "from legendmeta import LegendMetadata\n",
    "\n",
    "\n",
    "lmeta = LegendMetadata(path='<path-to-legend-metadata>')\n",
    "chmap = lmeta.channelmap(on='20240226T164758Z')  # get the channel map, copy timestamp from previous output\n",
    "\n",
    "channels = chmap.map(\"system\", unique=False)[\"geds\"]  # select HPGe channels\n",
    "channels = channels.map(\"analysis.processable\", unique=False)[True]  # select processable channels\n",
    "\n",
    "rawid_list = channels.map(\"daq.rawid\").keys()\n",
    "ch_list = [\"ch\" + str(rawid) for rawid in rawid_list]\n",
    "print(ch_list)"
   ]
  },
  {
   "cell_type": "markdown",
   "metadata": {},
   "source": [
    "Here we load a specified number of cycles. Each background cycle contains about 1,000 waveforms. We need 10,000 waveforms from all detectors in total, so reading in 20 **phy** files is more than enough. For **cal** data one file is enough. For **phy** data, we remove forced/baseline and pulser triggers."
   ]
  },
  {
   "cell_type": "code",
   "execution_count": 4,
   "metadata": {},
   "outputs": [],
   "source": [
    "from lgdo.lh5 import read_as\n",
    "\n",
    "if stack == \"juleana\":\n",
    "    if data_type == \"phy\":\n",
    "        \n",
    "        n_files = 20\n",
    "        raw_files_in = raw_files[0:n_files]\n",
    "        \n",
    "        bltrigger = read_as('ch1027200/raw/daqenergy', raw_files_in, 'np')\n",
    "        pulser = read_as('ch1027201/raw/daqenergy', raw_files_in, 'np')\n",
    "        \n",
    "        idxs_pass = np.where((pulser == 0) & (bltrigger == 0))[0]\n",
    "        \n",
    "    elif data_type == \"cal\":\n",
    "        \n",
    "        n_files = 1\n",
    "        raw_files_in = raw_files[0:n_files]\n",
    "        \n",
    "if stack == \"pygama\":\n",
    "    \n",
    "    n_files_phy = 20\n",
    "    n_files_cal = 1 \n",
    "\n",
    "    raw_files_phy_in = raw_files_phy[0:n_files_phy]\n",
    "    raw_files_cal_in = raw_files_cal[0:n_files_cal]\n",
    "\n",
    "    bltrigger = read_as('ch1027200/raw/daqenergy', raw_files_phy_in, 'np')\n",
    "    pulser = read_as('ch1027201/raw/daqenergy', raw_files_phy_in, 'np')\n",
    "    \n",
    "    idxs_pass = np.where((pulser == 0) & (bltrigger == 0))[0]"
   ]
  },
  {
   "cell_type": "markdown",
   "metadata": {},
   "source": [
    "To construct the training dataset, we evenly select waveforms from all processable Germanium detectors. For each detector, we choose half of the waveforms with ```daqenergy == 0``` and the other half with ```daqenergy > 0``` for **phy** data. We do not pre-apply any cuts for **cal** data. "
   ]
  },
  {
   "cell_type": "code",
   "execution_count": 6,
   "metadata": {
    "tags": []
   },
   "outputs": [
    {
     "name": "stderr",
     "output_type": "stream",
     "text": [
      "  1%|          | 1/90 [00:05<08:51,  5.97s/it]"
     ]
    },
    {
     "name": "stdout",
     "output_type": "stream",
     "text": [
      "ch1104000 114\n"
     ]
    },
    {
     "name": "stderr",
     "output_type": "stream",
     "text": [
      "  2%|▏         | 2/90 [00:09<06:20,  4.32s/it]"
     ]
    },
    {
     "name": "stdout",
     "output_type": "stream",
     "text": [
      "ch1104001 114\n"
     ]
    },
    {
     "name": "stderr",
     "output_type": "stream",
     "text": [
      "  3%|▎         | 3/90 [00:12<05:34,  3.84s/it]"
     ]
    },
    {
     "name": "stdout",
     "output_type": "stream",
     "text": [
      "ch1104002 114\n"
     ]
    },
    {
     "name": "stderr",
     "output_type": "stream",
     "text": [
      "  4%|▍         | 4/90 [00:15<04:55,  3.44s/it]"
     ]
    },
    {
     "name": "stdout",
     "output_type": "stream",
     "text": [
      "ch1104003 114\n"
     ]
    },
    {
     "name": "stderr",
     "output_type": "stream",
     "text": [
      "  6%|▌         | 5/90 [00:17<04:14,  3.00s/it]"
     ]
    },
    {
     "name": "stdout",
     "output_type": "stream",
     "text": [
      "ch1104004 114\n"
     ]
    },
    {
     "name": "stderr",
     "output_type": "stream",
     "text": [
      "  7%|▋         | 6/90 [00:21<04:46,  3.41s/it]"
     ]
    },
    {
     "name": "stdout",
     "output_type": "stream",
     "text": [
      "ch1104005 114\n"
     ]
    },
    {
     "name": "stderr",
     "output_type": "stream",
     "text": [
      "  8%|▊         | 7/90 [00:24<04:28,  3.23s/it]"
     ]
    },
    {
     "name": "stdout",
     "output_type": "stream",
     "text": [
      "ch1105600 114\n"
     ]
    },
    {
     "name": "stderr",
     "output_type": "stream",
     "text": [
      "  9%|▉         | 8/90 [00:28<04:33,  3.34s/it]"
     ]
    },
    {
     "name": "stdout",
     "output_type": "stream",
     "text": [
      "ch1105602 114\n"
     ]
    },
    {
     "name": "stderr",
     "output_type": "stream",
     "text": [
      " 10%|█         | 9/90 [00:30<04:10,  3.09s/it]"
     ]
    },
    {
     "name": "stdout",
     "output_type": "stream",
     "text": [
      "ch1105603 114\n"
     ]
    },
    {
     "name": "stderr",
     "output_type": "stream",
     "text": [
      " 11%|█         | 10/90 [00:35<04:41,  3.52s/it]"
     ]
    },
    {
     "name": "stdout",
     "output_type": "stream",
     "text": [
      "ch1107202 114\n"
     ]
    },
    {
     "name": "stderr",
     "output_type": "stream",
     "text": [
      " 12%|█▏        | 11/90 [00:37<04:05,  3.11s/it]"
     ]
    },
    {
     "name": "stdout",
     "output_type": "stream",
     "text": [
      "ch1107203 114\n"
     ]
    },
    {
     "name": "stderr",
     "output_type": "stream",
     "text": [
      " 13%|█▎        | 12/90 [00:39<03:38,  2.81s/it]"
     ]
    },
    {
     "name": "stdout",
     "output_type": "stream",
     "text": [
      "ch1107204 114\n"
     ]
    },
    {
     "name": "stderr",
     "output_type": "stream",
     "text": [
      " 14%|█▍        | 13/90 [00:41<03:11,  2.48s/it]"
     ]
    },
    {
     "name": "stdout",
     "output_type": "stream",
     "text": [
      "ch1107205 114\n"
     ]
    },
    {
     "name": "stderr",
     "output_type": "stream",
     "text": [
      " 16%|█▌        | 14/90 [00:44<03:24,  2.70s/it]"
     ]
    },
    {
     "name": "stdout",
     "output_type": "stream",
     "text": [
      "ch1108800 114\n"
     ]
    },
    {
     "name": "stderr",
     "output_type": "stream",
     "text": [
      " 17%|█▋        | 15/90 [00:46<03:16,  2.61s/it]"
     ]
    },
    {
     "name": "stdout",
     "output_type": "stream",
     "text": [
      "ch1108801 114\n"
     ]
    },
    {
     "name": "stderr",
     "output_type": "stream",
     "text": [
      " 18%|█▊        | 16/90 [00:48<03:01,  2.45s/it]"
     ]
    },
    {
     "name": "stdout",
     "output_type": "stream",
     "text": [
      "ch1108802 114\n"
     ]
    },
    {
     "name": "stderr",
     "output_type": "stream",
     "text": [
      " 19%|█▉        | 17/90 [00:51<02:54,  2.38s/it]"
     ]
    },
    {
     "name": "stdout",
     "output_type": "stream",
     "text": [
      "ch1108803 114\n"
     ]
    },
    {
     "name": "stderr",
     "output_type": "stream",
     "text": [
      " 20%|██        | 18/90 [00:55<03:33,  2.97s/it]"
     ]
    },
    {
     "name": "stdout",
     "output_type": "stream",
     "text": [
      "ch1110402 114\n"
     ]
    },
    {
     "name": "stderr",
     "output_type": "stream",
     "text": [
      " 21%|██        | 19/90 [00:58<03:32,  2.99s/it]"
     ]
    },
    {
     "name": "stdout",
     "output_type": "stream",
     "text": [
      "ch1110403 114\n"
     ]
    },
    {
     "name": "stderr",
     "output_type": "stream",
     "text": [
      " 22%|██▏       | 20/90 [01:01<03:32,  3.04s/it]"
     ]
    },
    {
     "name": "stdout",
     "output_type": "stream",
     "text": [
      "ch1110404 114\n"
     ]
    },
    {
     "name": "stderr",
     "output_type": "stream",
     "text": [
      " 23%|██▎       | 21/90 [01:04<03:20,  2.91s/it]"
     ]
    },
    {
     "name": "stdout",
     "output_type": "stream",
     "text": [
      "ch1112000 114\n"
     ]
    },
    {
     "name": "stderr",
     "output_type": "stream",
     "text": [
      " 24%|██▍       | 22/90 [01:06<03:02,  2.69s/it]"
     ]
    },
    {
     "name": "stdout",
     "output_type": "stream",
     "text": [
      "ch1112001 114\n"
     ]
    },
    {
     "name": "stderr",
     "output_type": "stream",
     "text": [
      " 26%|██▌       | 23/90 [01:08<02:46,  2.49s/it]"
     ]
    },
    {
     "name": "stdout",
     "output_type": "stream",
     "text": [
      "ch1112002 114\n"
     ]
    },
    {
     "name": "stderr",
     "output_type": "stream",
     "text": [
      " 27%|██▋       | 24/90 [01:12<03:22,  3.08s/it]"
     ]
    },
    {
     "name": "stdout",
     "output_type": "stream",
     "text": [
      "ch1112003 114\n"
     ]
    },
    {
     "name": "stderr",
     "output_type": "stream",
     "text": [
      " 28%|██▊       | 25/90 [01:16<03:32,  3.27s/it]"
     ]
    },
    {
     "name": "stdout",
     "output_type": "stream",
     "text": [
      "ch1112004 114\n"
     ]
    },
    {
     "name": "stderr",
     "output_type": "stream",
     "text": [
      " 29%|██▉       | 26/90 [01:18<03:09,  2.97s/it]"
     ]
    },
    {
     "name": "stdout",
     "output_type": "stream",
     "text": [
      "ch1112005 114\n"
     ]
    },
    {
     "name": "stderr",
     "output_type": "stream",
     "text": [
      " 30%|███       | 27/90 [01:26<04:28,  4.25s/it]"
     ]
    },
    {
     "name": "stdout",
     "output_type": "stream",
     "text": [
      "ch1113600 114\n"
     ]
    },
    {
     "name": "stderr",
     "output_type": "stream",
     "text": [
      " 31%|███       | 28/90 [01:30<04:19,  4.18s/it]"
     ]
    },
    {
     "name": "stdout",
     "output_type": "stream",
     "text": [
      "ch1113601 114\n"
     ]
    },
    {
     "name": "stderr",
     "output_type": "stream",
     "text": [
      " 32%|███▏      | 29/90 [01:32<03:41,  3.63s/it]"
     ]
    },
    {
     "name": "stdout",
     "output_type": "stream",
     "text": [
      "ch1113602 114\n"
     ]
    },
    {
     "name": "stderr",
     "output_type": "stream",
     "text": [
      " 33%|███▎      | 30/90 [01:35<03:23,  3.39s/it]"
     ]
    },
    {
     "name": "stdout",
     "output_type": "stream",
     "text": [
      "ch1113603 114\n"
     ]
    },
    {
     "name": "stderr",
     "output_type": "stream",
     "text": [
      " 34%|███▍      | 31/90 [01:37<02:55,  2.98s/it]"
     ]
    },
    {
     "name": "stdout",
     "output_type": "stream",
     "text": [
      "ch1113604 114\n"
     ]
    },
    {
     "name": "stderr",
     "output_type": "stream",
     "text": [
      " 36%|███▌      | 32/90 [01:40<03:03,  3.16s/it]"
     ]
    },
    {
     "name": "stdout",
     "output_type": "stream",
     "text": [
      "ch1113605 114\n"
     ]
    },
    {
     "name": "stderr",
     "output_type": "stream",
     "text": [
      " 37%|███▋      | 33/90 [01:46<03:36,  3.80s/it]"
     ]
    },
    {
     "name": "stdout",
     "output_type": "stream",
     "text": [
      "ch1115203 114\n"
     ]
    },
    {
     "name": "stderr",
     "output_type": "stream",
     "text": [
      " 38%|███▊      | 34/90 [01:48<03:16,  3.51s/it]"
     ]
    },
    {
     "name": "stdout",
     "output_type": "stream",
     "text": [
      "ch1115204 114\n"
     ]
    },
    {
     "name": "stderr",
     "output_type": "stream",
     "text": [
      " 39%|███▉      | 35/90 [01:52<03:06,  3.39s/it]"
     ]
    },
    {
     "name": "stdout",
     "output_type": "stream",
     "text": [
      "ch1116801 114\n"
     ]
    },
    {
     "name": "stderr",
     "output_type": "stream",
     "text": [
      " 40%|████      | 36/90 [01:55<02:58,  3.30s/it]"
     ]
    },
    {
     "name": "stdout",
     "output_type": "stream",
     "text": [
      "ch1116802 114\n"
     ]
    },
    {
     "name": "stderr",
     "output_type": "stream",
     "text": [
      " 41%|████      | 37/90 [01:57<02:38,  2.98s/it]"
     ]
    },
    {
     "name": "stdout",
     "output_type": "stream",
     "text": [
      "ch1116803 114\n"
     ]
    },
    {
     "name": "stderr",
     "output_type": "stream",
     "text": [
      " 42%|████▏     | 38/90 [02:00<02:36,  3.01s/it]"
     ]
    },
    {
     "name": "stdout",
     "output_type": "stream",
     "text": [
      "ch1116804 114\n"
     ]
    },
    {
     "name": "stderr",
     "output_type": "stream",
     "text": [
      " 43%|████▎     | 39/90 [02:03<02:39,  3.13s/it]"
     ]
    },
    {
     "name": "stdout",
     "output_type": "stream",
     "text": [
      "ch1116805 114\n"
     ]
    },
    {
     "name": "stderr",
     "output_type": "stream",
     "text": [
      " 44%|████▍     | 40/90 [02:07<02:40,  3.21s/it]"
     ]
    },
    {
     "name": "stdout",
     "output_type": "stream",
     "text": [
      "ch1118402 114\n"
     ]
    },
    {
     "name": "stderr",
     "output_type": "stream",
     "text": [
      " 46%|████▌     | 41/90 [02:09<02:28,  3.04s/it]"
     ]
    },
    {
     "name": "stdout",
     "output_type": "stream",
     "text": [
      "ch1118403 114\n"
     ]
    },
    {
     "name": "stderr",
     "output_type": "stream",
     "text": [
      " 47%|████▋     | 42/90 [02:13<02:28,  3.10s/it]"
     ]
    },
    {
     "name": "stdout",
     "output_type": "stream",
     "text": [
      "ch1118404 114\n"
     ]
    },
    {
     "name": "stderr",
     "output_type": "stream",
     "text": [
      " 48%|████▊     | 43/90 [02:16<02:25,  3.11s/it]"
     ]
    },
    {
     "name": "stdout",
     "output_type": "stream",
     "text": [
      "ch1118405 114\n"
     ]
    },
    {
     "name": "stderr",
     "output_type": "stream",
     "text": [
      " 49%|████▉     | 44/90 [02:19<02:28,  3.22s/it]"
     ]
    },
    {
     "name": "stdout",
     "output_type": "stream",
     "text": [
      "ch1120000 114\n"
     ]
    },
    {
     "name": "stderr",
     "output_type": "stream",
     "text": [
      " 50%|█████     | 45/90 [02:22<02:16,  3.04s/it]"
     ]
    },
    {
     "name": "stdout",
     "output_type": "stream",
     "text": [
      "ch1120001 114\n"
     ]
    },
    {
     "name": "stderr",
     "output_type": "stream",
     "text": [
      " 51%|█████     | 46/90 [02:24<02:07,  2.89s/it]"
     ]
    },
    {
     "name": "stdout",
     "output_type": "stream",
     "text": [
      "ch1120002 114\n"
     ]
    },
    {
     "name": "stderr",
     "output_type": "stream",
     "text": [
      " 52%|█████▏    | 47/90 [02:29<02:19,  3.24s/it]"
     ]
    },
    {
     "name": "stdout",
     "output_type": "stream",
     "text": [
      "ch1120003 114\n"
     ]
    },
    {
     "name": "stderr",
     "output_type": "stream",
     "text": [
      " 53%|█████▎    | 48/90 [02:31<02:05,  2.98s/it]"
     ]
    },
    {
     "name": "stdout",
     "output_type": "stream",
     "text": [
      "ch1120004 57\n"
     ]
    },
    {
     "name": "stderr",
     "output_type": "stream",
     "text": [
      " 54%|█████▍    | 49/90 [02:34<02:00,  2.95s/it]"
     ]
    },
    {
     "name": "stdout",
     "output_type": "stream",
     "text": [
      "ch1120005 114\n"
     ]
    },
    {
     "name": "stderr",
     "output_type": "stream",
     "text": [
      " 56%|█████▌    | 50/90 [02:37<01:56,  2.92s/it]"
     ]
    },
    {
     "name": "stdout",
     "output_type": "stream",
     "text": [
      "ch1121600 114\n"
     ]
    },
    {
     "name": "stderr",
     "output_type": "stream",
     "text": [
      " 57%|█████▋    | 51/90 [02:39<01:45,  2.70s/it]"
     ]
    },
    {
     "name": "stdout",
     "output_type": "stream",
     "text": [
      "ch1121601 114\n"
     ]
    },
    {
     "name": "stderr",
     "output_type": "stream",
     "text": [
      " 58%|█████▊    | 52/90 [02:42<01:48,  2.84s/it]"
     ]
    },
    {
     "name": "stdout",
     "output_type": "stream",
     "text": [
      "ch1121602 114\n"
     ]
    },
    {
     "name": "stderr",
     "output_type": "stream",
     "text": [
      " 59%|█████▉    | 53/90 [02:45<01:44,  2.84s/it]"
     ]
    },
    {
     "name": "stdout",
     "output_type": "stream",
     "text": [
      "ch1121603 114\n"
     ]
    },
    {
     "name": "stderr",
     "output_type": "stream",
     "text": [
      " 60%|██████    | 54/90 [02:47<01:33,  2.60s/it]"
     ]
    },
    {
     "name": "stdout",
     "output_type": "stream",
     "text": [
      "ch1121604 114\n"
     ]
    },
    {
     "name": "stderr",
     "output_type": "stream",
     "text": [
      " 61%|██████    | 55/90 [02:49<01:30,  2.59s/it]"
     ]
    },
    {
     "name": "stdout",
     "output_type": "stream",
     "text": [
      "ch1121605 114\n"
     ]
    },
    {
     "name": "stderr",
     "output_type": "stream",
     "text": [
      " 62%|██████▏   | 56/90 [02:56<02:11,  3.86s/it]"
     ]
    },
    {
     "name": "stdout",
     "output_type": "stream",
     "text": [
      "ch1078400 114\n"
     ]
    },
    {
     "name": "stderr",
     "output_type": "stream",
     "text": [
      " 63%|██████▎   | 57/90 [03:01<02:12,  4.01s/it]"
     ]
    },
    {
     "name": "stdout",
     "output_type": "stream",
     "text": [
      "ch1078405 114\n"
     ]
    },
    {
     "name": "stderr",
     "output_type": "stream",
     "text": [
      " 64%|██████▍   | 58/90 [03:04<02:05,  3.92s/it]"
     ]
    },
    {
     "name": "stdout",
     "output_type": "stream",
     "text": [
      "ch1080000 114\n"
     ]
    },
    {
     "name": "stderr",
     "output_type": "stream",
     "text": [
      " 66%|██████▌   | 59/90 [03:07<01:53,  3.66s/it]"
     ]
    },
    {
     "name": "stdout",
     "output_type": "stream",
     "text": [
      "ch1080001 114\n"
     ]
    },
    {
     "name": "stderr",
     "output_type": "stream",
     "text": [
      " 67%|██████▋   | 60/90 [03:11<01:50,  3.67s/it]"
     ]
    },
    {
     "name": "stdout",
     "output_type": "stream",
     "text": [
      "ch1080004 114\n"
     ]
    },
    {
     "name": "stderr",
     "output_type": "stream",
     "text": [
      " 68%|██████▊   | 61/90 [03:14<01:41,  3.50s/it]"
     ]
    },
    {
     "name": "stdout",
     "output_type": "stream",
     "text": [
      "ch1080005 114\n"
     ]
    },
    {
     "name": "stderr",
     "output_type": "stream",
     "text": [
      " 69%|██████▉   | 62/90 [03:17<01:28,  3.17s/it]"
     ]
    },
    {
     "name": "stdout",
     "output_type": "stream",
     "text": [
      "ch1081600 114\n"
     ]
    },
    {
     "name": "stderr",
     "output_type": "stream",
     "text": [
      " 70%|███████   | 63/90 [03:19<01:21,  3.02s/it]"
     ]
    },
    {
     "name": "stdout",
     "output_type": "stream",
     "text": [
      "ch1081601 114\n"
     ]
    },
    {
     "name": "stderr",
     "output_type": "stream",
     "text": [
      " 71%|███████   | 64/90 [03:22<01:14,  2.87s/it]"
     ]
    },
    {
     "name": "stdout",
     "output_type": "stream",
     "text": [
      "ch1081602 114\n"
     ]
    },
    {
     "name": "stderr",
     "output_type": "stream",
     "text": [
      " 72%|███████▏  | 65/90 [03:25<01:11,  2.86s/it]"
     ]
    },
    {
     "name": "stdout",
     "output_type": "stream",
     "text": [
      "ch1081603 114\n"
     ]
    },
    {
     "name": "stderr",
     "output_type": "stream",
     "text": [
      " 73%|███████▎  | 66/90 [03:28<01:13,  3.05s/it]"
     ]
    },
    {
     "name": "stdout",
     "output_type": "stream",
     "text": [
      "ch1081604 114\n"
     ]
    },
    {
     "name": "stderr",
     "output_type": "stream",
     "text": [
      " 74%|███████▍  | 67/90 [03:32<01:15,  3.26s/it]"
     ]
    },
    {
     "name": "stdout",
     "output_type": "stream",
     "text": [
      "ch1081605 114\n"
     ]
    },
    {
     "name": "stderr",
     "output_type": "stream",
     "text": [
      " 76%|███████▌  | 68/90 [03:35<01:11,  3.27s/it]"
     ]
    },
    {
     "name": "stdout",
     "output_type": "stream",
     "text": [
      "ch1083200 114\n"
     ]
    },
    {
     "name": "stderr",
     "output_type": "stream",
     "text": [
      " 77%|███████▋  | 69/90 [03:38<01:08,  3.25s/it]"
     ]
    },
    {
     "name": "stdout",
     "output_type": "stream",
     "text": [
      "ch1083201 114\n"
     ]
    },
    {
     "name": "stderr",
     "output_type": "stream",
     "text": [
      " 78%|███████▊  | 70/90 [03:41<01:04,  3.21s/it]"
     ]
    },
    {
     "name": "stdout",
     "output_type": "stream",
     "text": [
      "ch1083202 114\n"
     ]
    },
    {
     "name": "stderr",
     "output_type": "stream",
     "text": [
      " 79%|███████▉  | 71/90 [03:45<01:02,  3.27s/it]"
     ]
    },
    {
     "name": "stdout",
     "output_type": "stream",
     "text": [
      "ch1083203 114\n"
     ]
    },
    {
     "name": "stderr",
     "output_type": "stream",
     "text": [
      " 80%|████████  | 72/90 [03:50<01:06,  3.70s/it]"
     ]
    },
    {
     "name": "stdout",
     "output_type": "stream",
     "text": [
      "ch1083204 114\n"
     ]
    },
    {
     "name": "stderr",
     "output_type": "stream",
     "text": [
      " 81%|████████  | 73/90 [03:53<00:59,  3.47s/it]"
     ]
    },
    {
     "name": "stdout",
     "output_type": "stream",
     "text": [
      "ch1083205 114\n"
     ]
    },
    {
     "name": "stderr",
     "output_type": "stream",
     "text": [
      " 82%|████████▏ | 74/90 [03:55<00:52,  3.28s/it]"
     ]
    },
    {
     "name": "stdout",
     "output_type": "stream",
     "text": [
      "ch1084800 114\n"
     ]
    },
    {
     "name": "stderr",
     "output_type": "stream",
     "text": [
      " 83%|████████▎ | 75/90 [03:58<00:45,  3.00s/it]"
     ]
    },
    {
     "name": "stdout",
     "output_type": "stream",
     "text": [
      "ch1084801 114\n"
     ]
    },
    {
     "name": "stderr",
     "output_type": "stream",
     "text": [
      " 84%|████████▍ | 76/90 [04:00<00:40,  2.87s/it]"
     ]
    },
    {
     "name": "stdout",
     "output_type": "stream",
     "text": [
      "ch1084802 114\n"
     ]
    },
    {
     "name": "stderr",
     "output_type": "stream",
     "text": [
      " 86%|████████▌ | 77/90 [04:02<00:34,  2.66s/it]"
     ]
    },
    {
     "name": "stdout",
     "output_type": "stream",
     "text": [
      "ch1084803 114\n"
     ]
    },
    {
     "name": "stderr",
     "output_type": "stream",
     "text": [
      " 87%|████████▋ | 78/90 [04:05<00:33,  2.77s/it]"
     ]
    },
    {
     "name": "stdout",
     "output_type": "stream",
     "text": [
      "ch1084804 114\n"
     ]
    },
    {
     "name": "stderr",
     "output_type": "stream",
     "text": [
      " 88%|████████▊ | 79/90 [04:08<00:29,  2.72s/it]"
     ]
    },
    {
     "name": "stdout",
     "output_type": "stream",
     "text": [
      "ch1084805 114\n"
     ]
    },
    {
     "name": "stderr",
     "output_type": "stream",
     "text": [
      " 89%|████████▉ | 80/90 [04:13<00:33,  3.35s/it]"
     ]
    },
    {
     "name": "stdout",
     "output_type": "stream",
     "text": [
      "ch1086400 114\n"
     ]
    },
    {
     "name": "stderr",
     "output_type": "stream",
     "text": [
      " 90%|█████████ | 81/90 [04:16<00:28,  3.16s/it]"
     ]
    },
    {
     "name": "stdout",
     "output_type": "stream",
     "text": [
      "ch1086401 114\n"
     ]
    },
    {
     "name": "stderr",
     "output_type": "stream",
     "text": [
      " 91%|█████████ | 82/90 [04:20<00:28,  3.53s/it]"
     ]
    },
    {
     "name": "stdout",
     "output_type": "stream",
     "text": [
      "ch1086403 114\n"
     ]
    },
    {
     "name": "stderr",
     "output_type": "stream",
     "text": [
      " 92%|█████████▏| 83/90 [04:24<00:24,  3.53s/it]"
     ]
    },
    {
     "name": "stdout",
     "output_type": "stream",
     "text": [
      "ch1086404 114\n"
     ]
    },
    {
     "name": "stderr",
     "output_type": "stream",
     "text": [
      " 93%|█████████▎| 84/90 [04:26<00:19,  3.22s/it]"
     ]
    },
    {
     "name": "stdout",
     "output_type": "stream",
     "text": [
      "ch1086405 114\n"
     ]
    },
    {
     "name": "stderr",
     "output_type": "stream",
     "text": [
      " 94%|█████████▍| 85/90 [04:29<00:16,  3.24s/it]"
     ]
    },
    {
     "name": "stdout",
     "output_type": "stream",
     "text": [
      "ch1088001 114\n"
     ]
    },
    {
     "name": "stderr",
     "output_type": "stream",
     "text": [
      " 96%|█████████▌| 86/90 [04:33<00:13,  3.34s/it]"
     ]
    },
    {
     "name": "stdout",
     "output_type": "stream",
     "text": [
      "ch1088002 114\n"
     ]
    },
    {
     "name": "stderr",
     "output_type": "stream",
     "text": [
      " 97%|█████████▋| 87/90 [04:37<00:10,  3.51s/it]"
     ]
    },
    {
     "name": "stdout",
     "output_type": "stream",
     "text": [
      "ch1088003 114\n"
     ]
    },
    {
     "name": "stderr",
     "output_type": "stream",
     "text": [
      " 98%|█████████▊| 88/90 [04:41<00:07,  3.84s/it]"
     ]
    },
    {
     "name": "stdout",
     "output_type": "stream",
     "text": [
      "ch1089600 114\n"
     ]
    },
    {
     "name": "stderr",
     "output_type": "stream",
     "text": [
      " 99%|█████████▉| 89/90 [04:44<00:03,  3.55s/it]"
     ]
    },
    {
     "name": "stdout",
     "output_type": "stream",
     "text": [
      "ch1089601 114\n"
     ]
    },
    {
     "name": "stderr",
     "output_type": "stream",
     "text": [
      "100%|██████████| 90/90 [04:48<00:00,  3.21s/it]"
     ]
    },
    {
     "name": "stdout",
     "output_type": "stream",
     "text": [
      "ch1089603 114\n",
      "--- 4.816712892055511 minutes elapsed ---\n"
     ]
    },
    {
     "name": "stderr",
     "output_type": "stream",
     "text": [
      "\n"
     ]
    }
   ],
   "source": [
    "import time, tqdm\n",
    "\n",
    "if stack == \"juleana\" and data_type == \"phy\":\n",
    "    \n",
    "    n_max = round(5000/len(ch_list)+1)\n",
    "    train_file = f'../data/l200-{period}-{run}-{data_type}-ml_train_raw.lh5'\n",
    "\n",
    "    start_time = time.time()\n",
    "\n",
    "    for ch in tqdm.tqdm(ch_list):\n",
    "\n",
    "        tb_pass, _ = sto.read(ch + '/raw/daqenergy', \n",
    "                              raw_files_in, \n",
    "                              idx=idxs_pass)\n",
    "        daqenergies = tb_pass.nda\n",
    "\n",
    "        idxs_hi, idxs_lo = np.where(daqenergies > 0)[0][0:n_max], np.where(daqenergies == 0)[0][0:n_max]\n",
    "        idxs = sorted(np.concatenate([idxs_hi, idxs_lo]))\n",
    "\n",
    "        tb_raw, n_read = sto.read(ch + '/raw', raw_files_in, idx=idxs_pass[idxs])\n",
    "        print(ch, n_read) # Useful to check if enough events are being read\n",
    "        tb_raw['rawid'] = lgdo.Array(np.full(n_read, int(ch[2:])))\n",
    "\n",
    "        # Write tables to training dataset file \n",
    "        sto.write(tb_raw,\n",
    "                  name = 'raw',\n",
    "                  lh5_file = train_file,\n",
    "                  group = 'ml_train',\n",
    "                  wo_mode = 'a') \n",
    "\n",
    "    print(\"--- %s minutes elapsed ---\" % ((time.time() - start_time)/60))\n",
    "    \n",
    "elif stack == \"juleana\" and data_type == \"cal\":\n",
    "    \n",
    "    n_max = round(10000/len(ch_list)+1)\n",
    "    train_file = f'../data/l200-{period}-{run}-{data_type}-ml_train_raw.lh5'\n",
    "\n",
    "    start_time = time.time()\n",
    "\n",
    "    for ch in tqdm.tqdm(ch_list):\n",
    "\n",
    "        tb_raw, n_read = sto.read(ch + '/raw', raw_files_in, n_rows=n_max)\n",
    "        print(ch, n_read) # Useful to check if enough events are being read\n",
    "        tb_raw['rawid'] = lgdo.Array(np.full(n_read, int(ch[2:])))\n",
    "\n",
    "        # Write tables to training dataset file \n",
    "        sto.write(tb_raw,\n",
    "                  name = 'raw',\n",
    "                  lh5_file = train_file,\n",
    "                  group = 'ml_train',\n",
    "                  wo_mode = 'a')\n",
    "\n",
    "    print(\"--- %s minutes elapsed ---\" % ((time.time() - start_time)/60))\n",
    "    \n",
    "elif stack == \"pygama\":\n",
    "    \n",
    "    n_max_phy = round(5000/len(ch_list))\n",
    "    n_max_cal = round(10000/len(ch_list))\n",
    "\n",
    "    train_file = '../data/l200-p10-r000-phy-ml_train_raw.lh5'\n",
    "\n",
    "    start_time = time.time()\n",
    "\n",
    "    for ch in tqdm.tqdm(ch_list):\n",
    "\n",
    "        tb_pass, _ = sto.read(ch + '/raw/daqenergy', \n",
    "                              raw_files_phy_in, \n",
    "                              idx=idxs_pass_phy)\n",
    "        daqenergies = tb_pass.nda\n",
    "\n",
    "        idxs_hi, idxs_lo = np.where(daqenergies > 0)[0][0:n_max_phy], np.where(daqenergies == 0)[0][0:n_max_phy]\n",
    "        idxs = sorted(np.concatenate([idxs_hi, idxs_lo]))\n",
    "\n",
    "        tb_raw_phy, n_phy = sto.read(ch + '/raw', raw_files_phy_in, idx=idxs_pass_phy[idxs])\n",
    "        print(ch, n_phy) # Useful to check if enough events are being read\n",
    "        tb_raw_phy['rawid'] = lgdo.Array(np.full(n_phy, int(ch[2:])))\n",
    "\n",
    "        tb_raw_cal, n_cal = sto.read(ch + '/raw', raw_files_cal_in, n_rows=n_max_cal)\n",
    "        print(ch, n_cal) # Useful to check if enough events are being read\n",
    "        tb_raw_cal['rawid'] = lgdo.Array(np.full(n_cal, int(ch[2:])))\n",
    "\n",
    "        # Write tables to training dataset file \n",
    "        sto.write(tb_raw_phy,\n",
    "                  name = 'raw',\n",
    "                  lh5_file = train_file,\n",
    "                  group = 'ml_train',\n",
    "                  wo_mode = 'a')\n",
    "\n",
    "        sto.write(tb_raw_cal,\n",
    "                  name = 'raw',\n",
    "                  lh5_file = train_file,\n",
    "                  group = 'ml_train',\n",
    "                  wo_mode = 'a')\n",
    "\n",
    "    print(\"--- %s minutes elapsed ---\" % ((time.time() - start_time)/60))\n",
    "    "
   ]
  },
  {
   "cell_type": "markdown",
   "metadata": {},
   "source": [
    "Sanity check to make sure the training dataset was correctly written."
   ]
  },
  {
   "cell_type": "code",
   "execution_count": 7,
   "metadata": {
    "tags": []
   },
   "outputs": [
    {
     "name": "stdout",
     "output_type": "stream",
     "text": [
      "\u001b[1m/\u001b[0m\n",
      "└── \u001b[1mml_train\u001b[0m · HDF5 group \n",
      "    └── \u001b[1mraw\u001b[0m · table{packet_id,eventnumber,timestamp,runtime,numtraces,tracelist,baseline,daqenergy,channel,ts_pps,ts_ticks,ts_maxticks,mu_offset_sec,mu_offset_usec,to_master_sec,delta_mu_usec,abs_delta_mu_usec,to_start_sec,to_start_usec,dr_start_pps,dr_start_ticks,dr_stop_pps,dr_stop_ticks,dr_maxticks,deadtime,event_type,fcid,crate,slot,board_id,fc_input,waveform_windowed,presum_rate,waveform_presummed,t_sat_lo,t_sat_hi,rawid} \n",
      "        ├── \u001b[1mabs_delta_mu_usec\u001b[0m · array<1>{real} \n",
      "        ├── \u001b[1mbaseline\u001b[0m · array<1>{real} \n",
      "        ├── \u001b[1mboard_id\u001b[0m · array<1>{real} \n",
      "        ├── \u001b[1mchannel\u001b[0m · array<1>{real} \n",
      "        ├── \u001b[1mcrate\u001b[0m · array<1>{real} \n",
      "        ├── \u001b[1mdaqenergy\u001b[0m · array<1>{real} \n",
      "        ├── \u001b[1mdeadtime\u001b[0m · array<1>{real} \n",
      "        ├── \u001b[1mdelta_mu_usec\u001b[0m · array<1>{real} \n",
      "        ├── \u001b[1mdr_maxticks\u001b[0m · array<1>{real} \n",
      "        ├── \u001b[1mdr_start_pps\u001b[0m · array<1>{real} \n",
      "        ├── \u001b[1mdr_start_ticks\u001b[0m · array<1>{real} \n",
      "        ├── \u001b[1mdr_stop_pps\u001b[0m · array<1>{real} \n",
      "        ├── \u001b[1mdr_stop_ticks\u001b[0m · array<1>{real} \n",
      "        ├── \u001b[1mevent_type\u001b[0m · array<1>{real} \n",
      "        ├── \u001b[1meventnumber\u001b[0m · array<1>{real} \n",
      "        ├── \u001b[1mfc_input\u001b[0m · array<1>{real} \n",
      "        ├── \u001b[1mfcid\u001b[0m · array<1>{real} \n",
      "        ├── \u001b[1mmu_offset_sec\u001b[0m · array<1>{real} \n",
      "        ├── \u001b[1mmu_offset_usec\u001b[0m · array<1>{real} \n",
      "        ├── \u001b[1mnumtraces\u001b[0m · array<1>{real} \n",
      "        ├── \u001b[1mpacket_id\u001b[0m · array<1>{real} \n",
      "        ├── \u001b[1mpresum_rate\u001b[0m · array<1>{real} \n",
      "        ├── \u001b[1mrawid\u001b[0m · array<1>{real} \n",
      "        ├── \u001b[1mruntime\u001b[0m · array<1>{real} \n",
      "        ├── \u001b[1mslot\u001b[0m · array<1>{real} \n",
      "        ├── \u001b[1mt_sat_hi\u001b[0m · array<1>{real} \n",
      "        ├── \u001b[1mt_sat_lo\u001b[0m · array<1>{real} \n",
      "        ├── \u001b[1mtimestamp\u001b[0m · array<1>{real} \n",
      "        ├── \u001b[1mto_master_sec\u001b[0m · array<1>{real} \n",
      "        ├── \u001b[1mto_start_sec\u001b[0m · array<1>{real} \n",
      "        ├── \u001b[1mto_start_usec\u001b[0m · array<1>{real} \n",
      "        ├── \u001b[1mtracelist\u001b[0m · array<1>{array<1>{real}} \n",
      "        │   ├── \u001b[1mcumulative_length\u001b[0m · array<1>{real} \n",
      "        │   └── \u001b[1mflattened_data\u001b[0m · array<1>{real} \n",
      "        ├── \u001b[1mts_maxticks\u001b[0m · array<1>{real} \n",
      "        ├── \u001b[1mts_pps\u001b[0m · array<1>{real} \n",
      "        ├── \u001b[1mts_ticks\u001b[0m · array<1>{real} \n",
      "        ├── \u001b[1mwaveform_presummed\u001b[0m · table{t0,dt,values} \n",
      "        │   ├── \u001b[1mdt\u001b[0m · array<1>{real} \n",
      "        │   ├── \u001b[1mt0\u001b[0m · array<1>{real} \n",
      "        │   └── \u001b[1mvalues\u001b[0m · array_of_equalsized_arrays<1,1>{real} \n",
      "        └── \u001b[1mwaveform_windowed\u001b[0m · table{t0,dt,values} \n",
      "            ├── \u001b[1mdt\u001b[0m · array<1>{real} \n",
      "            ├── \u001b[1mt0\u001b[0m · array<1>{real} \n",
      "            └── \u001b[1mvalues\u001b[0m · array_of_equalsized_arrays<1,1>{real} \n"
     ]
    }
   ],
   "source": [
    "from lgdo.lh5 import show\n",
    "show(train_file)"
   ]
  },
  {
   "cell_type": "markdown",
   "metadata": {},
   "source": [
    "Look at the energy spectrum of the training dataset. Make sure the number of waveforms is ~10,000 for **juleana** models, or ~20,000 for **pygama** models."
   ]
  },
  {
   "cell_type": "code",
   "execution_count": 9,
   "metadata": {},
   "outputs": [
    {
     "name": "stderr",
     "output_type": "stream",
     "text": [
      "findfont: Font family 'roboto' not found.\n",
      "findfont: Font family ['roboto'] not found. Falling back to DejaVu Sans.\n",
      "findfont: Font family 'roboto' not found.\n"
     ]
    },
    {
     "data": {
      "image/png": "[encoded data removed]",
      "text/plain": [
       "<Figure size 2400x1350 with 1 Axes>"
      ]
     },
     "metadata": {},
     "output_type": "display_data"
    }
   ],
   "source": [
    "import matplotlib.pyplot as plt\n",
    "\n",
    "tb, _ = sto.read('ml_train/raw', train_file)\n",
    "daqenergies = tb['daqenergy'].nda\n",
    "print(daqenergies.shape)\n",
    "\n",
    "%matplotlib inline\n",
    "plt.hist(daqenergies, bins=250)\n",
    "plt.yscale('log')"
   ]
  },
  {
   "cell_type": "code",
   "execution_count": null,
   "metadata": {},
   "outputs": [],
   "source": []
  }
 ],
 "metadata": {
  "kernelspec": {
   "display_name": "legend-software",
   "language": "python",
   "name": "legend-software"
  },
  "language_info": {
   "codemirror_mode": {
    "name": "ipython",
    "version": 3
   },
   "file_extension": ".py",
   "mimetype": "text/x-python",
   "name": "python",
   "nbconvert_exporter": "python",
   "pygments_lexer": "ipython3",
   "version": "3.11.8"
  }
 },
 "nbformat": 4,
 "nbformat_minor": 4
}
